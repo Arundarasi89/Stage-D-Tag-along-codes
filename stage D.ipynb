{
 "cells": [
  {
   "cell_type": "markdown",
   "metadata": {},
   "source": [
    "Keras is a deep learning API that is written in Python that runs on top of Tensorflow.\n",
    "\n",
    "It is quite popular among deep learning users because of its ease of use.\n",
    "\n",
    "Tensorflow is an end to end open source deep learning framework developed and maintained by Google. \n",
    "\n",
    "Tensorflow allows for mathematical computations and manipulation between numerical tensors, runs on CPUs, GPUs, and TPUs. \n",
    "\n",
    "Keras was incorporated in Tensorflow 2.0 as tf.keras (high level API) and can run on the aforementioned hardwares. \n",
    "\n",
    "Tensorflow also allows for low-level operations with the Tensorflow Core API. "
   ]
  },
  {
   "cell_type": "code",
   "execution_count": 1,
   "metadata": {},
   "outputs": [
    {
     "name": "stdout",
     "output_type": "stream",
     "text": [
      "\n",
      "Usage:   \n",
      "  /opt/anaconda3/bin/python -m pip install [options] <requirement specifier> [package-index-options] ...\n",
      "  /opt/anaconda3/bin/python -m pip install [options] -r <requirements file> [package-index-options] ...\n",
      "  /opt/anaconda3/bin/python -m pip install [options] [-e] <vcs project url> ...\n",
      "  /opt/anaconda3/bin/python -m pip install [options] [-e] <local project path> ...\n",
      "  /opt/anaconda3/bin/python -m pip install [options] <archive url/path> ...\n",
      "\n",
      "no such option: --upYgrade\n",
      "Note: you may need to restart the kernel to use updated packages.\n"
     ]
    }
   ],
   "source": [
    "pip install --upYgrade pip"
   ]
  },
  {
   "cell_type": "code",
   "execution_count": 2,
   "metadata": {},
   "outputs": [
    {
     "name": "stdout",
     "output_type": "stream",
     "text": [
      "\u001b[33mWARNING: Skipping tensorflowY as it is not installed.\u001b[0m\u001b[33m\n",
      "\u001b[0mNote: you may need to restart the kernel to use updated packages.\n"
     ]
    }
   ],
   "source": [
    "pip uninstall tensorflowY\n"
   ]
  },
  {
   "cell_type": "code",
   "execution_count": 3,
   "metadata": {},
   "outputs": [
    {
     "name": "stdout",
     "output_type": "stream",
     "text": [
      "Requirement already satisfied: tensorflow in /opt/anaconda3/lib/python3.8/site-packages (2.13.0)\n",
      "Requirement already satisfied: absl-py>=1.0.0 in /opt/anaconda3/lib/python3.8/site-packages (from tensorflow) (1.4.0)\n",
      "Requirement already satisfied: astunparse>=1.6.0 in /opt/anaconda3/lib/python3.8/site-packages (from tensorflow) (1.6.3)\n",
      "Requirement already satisfied: flatbuffers>=23.1.21 in /opt/anaconda3/lib/python3.8/site-packages (from tensorflow) (23.5.26)\n",
      "Requirement already satisfied: gast<=0.4.0,>=0.2.1 in /opt/anaconda3/lib/python3.8/site-packages (from tensorflow) (0.4.0)\n",
      "Requirement already satisfied: google-pasta>=0.1.1 in /opt/anaconda3/lib/python3.8/site-packages (from tensorflow) (0.2.0)\n",
      "Requirement already satisfied: h5py>=2.9.0 in /opt/anaconda3/lib/python3.8/site-packages (from tensorflow) (2.10.0)\n",
      "Requirement already satisfied: libclang>=13.0.0 in /opt/anaconda3/lib/python3.8/site-packages (from tensorflow) (13.0.0)\n",
      "Requirement already satisfied: numpy<=1.24.3,>=1.22 in /opt/anaconda3/lib/python3.8/site-packages (from tensorflow) (1.22.3)\n",
      "Requirement already satisfied: opt-einsum>=2.3.2 in /opt/anaconda3/lib/python3.8/site-packages (from tensorflow) (3.3.0)\n",
      "Requirement already satisfied: packaging in /opt/anaconda3/lib/python3.8/site-packages (from tensorflow) (20.4)\n",
      "Requirement already satisfied: protobuf!=4.21.0,!=4.21.1,!=4.21.2,!=4.21.3,!=4.21.4,!=4.21.5,<5.0.0dev,>=3.20.3 in /opt/anaconda3/lib/python3.8/site-packages (from tensorflow) (4.23.3)\n",
      "Requirement already satisfied: setuptools in /opt/anaconda3/lib/python3.8/site-packages (from tensorflow) (49.2.0.post20200714)\n",
      "Requirement already satisfied: six>=1.12.0 in /opt/anaconda3/lib/python3.8/site-packages (from tensorflow) (1.15.0)\n",
      "Requirement already satisfied: termcolor>=1.1.0 in /opt/anaconda3/lib/python3.8/site-packages (from tensorflow) (1.1.0)\n",
      "Requirement already satisfied: typing-extensions<4.6.0,>=3.6.6 in /opt/anaconda3/lib/python3.8/site-packages (from tensorflow) (3.10.0.0)\n",
      "Requirement already satisfied: wrapt>=1.11.0 in /opt/anaconda3/lib/python3.8/site-packages (from tensorflow) (1.11.2)\n",
      "Requirement already satisfied: grpcio<2.0,>=1.24.3 in /opt/anaconda3/lib/python3.8/site-packages (from tensorflow) (1.56.0)\n",
      "Requirement already satisfied: tensorboard<2.14,>=2.13 in /opt/anaconda3/lib/python3.8/site-packages (from tensorflow) (2.13.0)\n",
      "Requirement already satisfied: tensorflow-estimator<2.14,>=2.13.0 in /opt/anaconda3/lib/python3.8/site-packages (from tensorflow) (2.13.0)\n",
      "Requirement already satisfied: keras<2.14,>=2.13.1 in /opt/anaconda3/lib/python3.8/site-packages (from tensorflow) (2.13.1)\n",
      "Requirement already satisfied: tensorflow-io-gcs-filesystem>=0.23.1 in /opt/anaconda3/lib/python3.8/site-packages (from tensorflow) (0.24.0)\n",
      "Requirement already satisfied: wheel<1.0,>=0.23.0 in /opt/anaconda3/lib/python3.8/site-packages (from astunparse>=1.6.0->tensorflow) (0.34.2)\n",
      "Requirement already satisfied: google-auth<3,>=1.6.3 in /opt/anaconda3/lib/python3.8/site-packages (from tensorboard<2.14,>=2.13->tensorflow) (2.21.0)\n",
      "Requirement already satisfied: google-auth-oauthlib<1.1,>=0.5 in /opt/anaconda3/lib/python3.8/site-packages (from tensorboard<2.14,>=2.13->tensorflow) (1.0.0)\n",
      "Requirement already satisfied: markdown>=2.6.8 in /opt/anaconda3/lib/python3.8/site-packages (from tensorboard<2.14,>=2.13->tensorflow) (3.3.6)\n",
      "Requirement already satisfied: requests<3,>=2.21.0 in /opt/anaconda3/lib/python3.8/site-packages (from tensorboard<2.14,>=2.13->tensorflow) (2.30.0)\n",
      "Requirement already satisfied: tensorboard-data-server<0.8.0,>=0.7.0 in /opt/anaconda3/lib/python3.8/site-packages (from tensorboard<2.14,>=2.13->tensorflow) (0.7.1)\n",
      "Requirement already satisfied: werkzeug>=1.0.1 in /opt/anaconda3/lib/python3.8/site-packages (from tensorboard<2.14,>=2.13->tensorflow) (1.0.1)\n",
      "Requirement already satisfied: pyparsing>=2.0.2 in /opt/anaconda3/lib/python3.8/site-packages (from packaging->tensorflow) (2.4.7)\n",
      "Requirement already satisfied: cachetools<6.0,>=2.0.0 in /opt/anaconda3/lib/python3.8/site-packages (from google-auth<3,>=1.6.3->tensorboard<2.14,>=2.13->tensorflow) (5.0.0)\n",
      "Requirement already satisfied: pyasn1-modules>=0.2.1 in /opt/anaconda3/lib/python3.8/site-packages (from google-auth<3,>=1.6.3->tensorboard<2.14,>=2.13->tensorflow) (0.2.8)\n",
      "Requirement already satisfied: rsa<5,>=3.1.4 in /opt/anaconda3/lib/python3.8/site-packages (from google-auth<3,>=1.6.3->tensorboard<2.14,>=2.13->tensorflow) (4.8)\n",
      "Requirement already satisfied: urllib3<2.0 in /opt/anaconda3/lib/python3.8/site-packages (from google-auth<3,>=1.6.3->tensorboard<2.14,>=2.13->tensorflow) (1.25.9)\n",
      "Requirement already satisfied: requests-oauthlib>=0.7.0 in /opt/anaconda3/lib/python3.8/site-packages (from google-auth-oauthlib<1.1,>=0.5->tensorboard<2.14,>=2.13->tensorflow) (1.3.0)\n",
      "Requirement already satisfied: importlib-metadata>=4.4 in /opt/anaconda3/lib/python3.8/site-packages (from markdown>=2.6.8->tensorboard<2.14,>=2.13->tensorflow) (4.11.3)\n",
      "Requirement already satisfied: charset-normalizer<4,>=2 in /opt/anaconda3/lib/python3.8/site-packages (from requests<3,>=2.21.0->tensorboard<2.14,>=2.13->tensorflow) (2.0.10)\n",
      "Requirement already satisfied: idna<4,>=2.5 in /opt/anaconda3/lib/python3.8/site-packages (from requests<3,>=2.21.0->tensorboard<2.14,>=2.13->tensorflow) (2.10)\n",
      "Requirement already satisfied: certifi>=2017.4.17 in /opt/anaconda3/lib/python3.8/site-packages (from requests<3,>=2.21.0->tensorboard<2.14,>=2.13->tensorflow) (2020.6.20)\n",
      "Requirement already satisfied: zipp>=0.5 in /opt/anaconda3/lib/python3.8/site-packages (from importlib-metadata>=4.4->markdown>=2.6.8->tensorboard<2.14,>=2.13->tensorflow) (3.1.0)\n",
      "Requirement already satisfied: pyasn1<0.5.0,>=0.4.6 in /opt/anaconda3/lib/python3.8/site-packages (from pyasn1-modules>=0.2.1->google-auth<3,>=1.6.3->tensorboard<2.14,>=2.13->tensorflow) (0.4.8)\n",
      "Requirement already satisfied: oauthlib>=3.0.0 in /opt/anaconda3/lib/python3.8/site-packages (from requests-oauthlib>=0.7.0->google-auth-oauthlib<1.1,>=0.5->tensorboard<2.14,>=2.13->tensorflow) (3.2.2)\n",
      "Note: you may need to restart the kernel to use updated packages.\n"
     ]
    }
   ],
   "source": [
    "pip install tensorflow"
   ]
  },
  {
   "cell_type": "code",
   "execution_count": 4,
   "metadata": {},
   "outputs": [],
   "source": [
    "import numpy as np\n",
    "import matplotlib.pyplot as plt\n",
    "import tensorflow as tf\n",
    "from tensorflow import keras"
   ]
  },
  {
   "cell_type": "code",
   "execution_count": 5,
   "metadata": {},
   "outputs": [],
   "source": [
    "mnist = keras.datasets.mnist\n",
    "\n",
    "(train_images,train_labels), (test_images,test_labels) = mnist.load_data()"
   ]
  },
  {
   "cell_type": "code",
   "execution_count": 6,
   "metadata": {},
   "outputs": [
    {
     "name": "stdout",
     "output_type": "stream",
     "text": [
      "Training data: (60000, 28, 28)\n",
      "Test data: (10000, 28, 28)\n",
      "There are 10 classes in the dataset. They are: [0 1 2 3 4 5 6 7 8 9]\n"
     ]
    }
   ],
   "source": [
    "print(\"Training data: {}\".format(train_images.shape,train_labels.shape))\n",
    "print(\"Test data: {}\".format(test_images.shape,test_labels.shape))\n",
    "class_labels = np.unique(train_labels)\n",
    "print(\"There are {} classes in the dataset. They are: {}\".format(len(class_labels),class_labels))"
   ]
  },
  {
   "cell_type": "code",
   "execution_count": 7,
   "metadata": {},
   "outputs": [
    {
     "data": {
      "text/plain": [
       "Text(0.5, 1.0, 'Label: 5')"
      ]
     },
     "execution_count": 7,
     "metadata": {},
     "output_type": "execute_result"
    },
    {
     "data": {
      "image/png": "[encoded data removed]",
      "text/plain": [
       "<Figure size 576x360 with 1 Axes>"
      ]
     },
     "metadata": {
      "needs_background": "light"
     },
     "output_type": "display_data"
    }
   ],
   "source": [
    "plt.figure(figsize=(8,5))\n",
    "plt.subplot(1,3,1)\n",
    "plt.imshow(train_images[0])\n",
    "plt.title(\"Label: {}\".format(train_labels[0]))"
   ]
  },
  {
   "cell_type": "code",
   "execution_count": 8,
   "metadata": {},
   "outputs": [
    {
     "data": {
      "image/png": "[encoded data removed]",
      "text/plain": [
       "<Figure size 432x288 with 2 Axes>"
      ]
     },
     "metadata": {
      "needs_background": "light"
     },
     "output_type": "display_data"
    }
   ],
   "source": [
    "plt.subplot(1,3,2)\n",
    "plt.imshow(train_images[2500])\n",
    "plt.title(\"Label: {}\".format(train_labels[2500]))\n",
    "\n",
    "plt.subplot(1,3,3)\n",
    "plt.imshow(test_images[12])\n",
    "plt.show()"
   ]
  },
  {
   "cell_type": "code",
   "execution_count": 9,
   "metadata": {},
   "outputs": [],
   "source": [
    "#scale dataset to range between 0 and 1\n",
    "#pixel values range from 0 to 255\n",
    "train_images = train_images/255.0\n",
    "test_images = test_images/255.0"
   ]
  },
  {
   "cell_type": "code",
   "execution_count": 10,
   "metadata": {},
   "outputs": [],
   "source": [
    "#split training data to training and validation sets \n",
    "x_train = train_images[0:50000]\n",
    "x_val = train_images[50000:]\n",
    "y_train = train_labels[0:50000]\n",
    "y_val = train_labels[50000:]\n",
    "\n",
    "#reshape data from 28 by 28 array to a single array\n",
    "new_dimension = np.prod(train_images.shape[1:])\n",
    "x_train = x_train.reshape(x_train.shape[0],new_dimension)\n",
    "x_val = x_val.reshape(x_val.shape[0],new_dimension)\n",
    "test_images = test_images.reshape(test_images.shape[0],new_dimension)"
   ]
  },
  {
   "cell_type": "code",
   "execution_count": 11,
   "metadata": {},
   "outputs": [
    {
     "name": "stdout",
     "output_type": "stream",
     "text": [
      "x_train: (50000, 784)\n",
      "x_val: (10000, 784)\n",
      "test_images: (10000, 784)\n"
     ]
    }
   ],
   "source": [
    "print(\"x_train: {}\".format(x_train.shape))\n",
    "print(\"x_val: {}\".format(x_val.shape))\n",
    "print(\"test_images: {}\".format(test_images.shape))"
   ]
  },
  {
   "cell_type": "code",
   "execution_count": 12,
   "metadata": {},
   "outputs": [],
   "source": [
    "#encode labels to categorical variables\n",
    "from tensorflow.keras.utils import to_categorical\n",
    "no_labels = 10\n",
    "y_train = to_categorical(y_train, no_labels)\n",
    "y_val = to_categorical(y_val,no_labels)\n",
    "y_test = to_categorical(test_labels,no_labels)"
   ]
  },
  {
   "cell_type": "markdown",
   "metadata": {},
   "source": [
    "Multilayer Perceptron\n",
    "It is a supervised learning algorithm for binary classifiers that separates an input into 2 classes by learning linearly separable patterns. It is a single layer neural network that multiples input feature vectors by their weights, creates a weighted sum by summing these products then adds a bias and applies and activation function to give the final output \n",
    "\n",
    "Perceptrons are unable to solve complex problems that are not linearly separable. \n",
    "\n",
    "The MLP is a network of connected perceptrons stacked in layers with several hidden layers in between the input and output layers. \n",
    "\n",
    "When there is a single hidden layer, MLPs are referred to as vanilla neural networks. \n",
    "\n",
    "MLPS are feedforward neural networks where information is transferred in the forward direction from the input layer to the output layer. The input data to the network is fed to the input layer, computations are performed on the data in hidden layers and meaningful results returned in the output layer. The importance of the connections between layers is specified by the weights assigned. "
   ]
  },
  {
   "cell_type": "code",
   "execution_count": null,
   "metadata": {},
   "outputs": [],
   "source": [
    "1. Backpropagation and its derivative\n",
    "\n",
    "Backpropagation is the method of traversing the neural network in reverse (from right to left) in order to obtain the gradient of neural network parameters with repect to a loss function. \n",
    "It is an iterative way of updating the weights in the network to get better predictions using a form of gradient descent until the minimum of the loss function is obtained.\n",
    "Different loss functions can be selected for various tasks. \n",
    "The loss is reduced in a controlled manner by taking small steps from the starting point to the final point which is the lowest possible point.\n",
    "The derivative of the loss function provides information on which direction to take when traversing. \n",
    "The weight can be updated using gradient descent. \n",
    "Backpropagation computes the sum of errors in the network to obtain the loss function, then the partial derivative of the loss function with respect to individual weights and using gradient descent to update the weights."
   ]
  },
  {
   "cell_type": "code",
   "execution_count": null,
   "metadata": {},
   "outputs": [],
   "source": [
    "2. Activation functions and neural networks hyperparameters\n",
    "\n",
    "Activation functions introduce non-linearity into the output of a neuron in a network to determine the output. \n",
    "This non-linearity allows for the network to learn complex relationships between the input and response variables.\n",
    "Without activation functions in an artificial neural network, there will only be linear transformations on the input. \n",
    "The non-linear functions also allow for back propagation because the gradients are obtained by the derivatives of the functions and used in updating weights. \n",
    "Some activation functions commonly used include sigmoid, tanh, relu, softmax, leaky relu and many more. \n",
    "When training the neural network, it is important to select the appropriate hyperparameters to improve the performance of the model."
   ]
  },
  {
   "cell_type": "code",
   "execution_count": null,
   "metadata": {},
   "outputs": [],
   "source": [
    "These are some of the hypeparameters:\n",
    "1. Hidden layers\n",
    "a measure of the learning capacity of the model, more hidden layers of neurons present in the network, the better the learning capacity of the mode. \n",
    "When too many layers than necessary are provided in a model, there is a tendency for overfitting to occur.\n",
    "2. Learning rate\n",
    "This controls how fast the model weights are updated before reaching optimal values. With a very small learning rate, it will take the model a long time to reach the desired weights.\n",
    "In contrast, if the learning rate is much higher, the model might overshoot and pass the optimal point and prevent convergence of the algorithm.\n",
    "This rate is how fast gradient descent is performed for backpropagation.\n",
    "3. Dropout\n",
    "This is used to shut a % of the neurons in the network to prevent overfitting\n",
    "4. Batch size\n",
    "The number of data samples that can be propagated through the network before weights are updated. This is important in breaking up huge datasets into sizeable batches to manage resources. \n",
    "For a dataset with 1000 samples and a batch size of 100, this means that there are 10 batches. \n",
    "5. Epoch\n",
    "It is the number of cycles that the learning algorithm goes through the entire dataset. When all batches are fed once, epoch is completed. "
   ]
  },
  {
   "cell_type": "code",
   "execution_count": 13,
   "metadata": {},
   "outputs": [
    {
     "ename": "AttributeError",
     "evalue": "module 'tensorflow' has no attribute 'placeholder'",
     "output_type": "error",
     "traceback": [
      "\u001b[0;31m---------------------------------------------------------------------------\u001b[0m",
      "\u001b[0;31mAttributeError\u001b[0m                            Traceback (most recent call last)",
      "\u001b[0;32m<ipython-input-13-3a0ad39791f9>\u001b[0m in \u001b[0;36m<module>\u001b[0;34m\u001b[0m\n\u001b[0;32m----> 1\u001b[0;31m \u001b[0mX\u001b[0m \u001b[0;34m=\u001b[0m \u001b[0mtf\u001b[0m\u001b[0;34m.\u001b[0m\u001b[0mplaceholder\u001b[0m\u001b[0;34m(\u001b[0m\u001b[0mtf\u001b[0m\u001b[0;34m.\u001b[0m\u001b[0mfloat32\u001b[0m\u001b[0;34m,\u001b[0m \u001b[0;34m[\u001b[0m\u001b[0;32mNone\u001b[0m\u001b[0;34m,\u001b[0m\u001b[0mnew_dimension\u001b[0m\u001b[0;34m]\u001b[0m\u001b[0;34m)\u001b[0m\u001b[0;34m\u001b[0m\u001b[0;34m\u001b[0m\u001b[0m\n\u001b[0m\u001b[1;32m      2\u001b[0m \u001b[0mY\u001b[0m \u001b[0;34m=\u001b[0m \u001b[0mtf\u001b[0m\u001b[0;34m.\u001b[0m\u001b[0mplaceholder\u001b[0m\u001b[0;34m(\u001b[0m\u001b[0mtf\u001b[0m\u001b[0;34m.\u001b[0m\u001b[0mfloat32\u001b[0m\u001b[0;34m,\u001b[0m \u001b[0;34m[\u001b[0m\u001b[0;32mNone\u001b[0m\u001b[0;34m,\u001b[0m\u001b[0mno_labels\u001b[0m\u001b[0;34m]\u001b[0m\u001b[0;34m)\u001b[0m\u001b[0;34m\u001b[0m\u001b[0;34m\u001b[0m\u001b[0m\n",
      "\u001b[0;31mAttributeError\u001b[0m: module 'tensorflow' has no attribute 'placeholder'"
     ]
    }
   ],
   "source": [
    "X = tf.placeholder(tf.float32, [None,new_dimension])\n",
    "Y = tf.placeholder(tf.float32, [None,no_labels])"
   ]
  },
  {
   "cell_type": "code",
   "execution_count": null,
   "metadata": {},
   "outputs": [],
   "source": [
    "def multilayer_perceptron(x,no_classes, first_layer_neurons=256,second_layer_neurons=128):\n",
    "    #first_layer\n",
    "    first_weight=tf.Variable(tf.random_uniform[mew dimension, first_layer_neurons])\n",
    "    first_bias=tf.Variable(tf.zeros([first_layer_neurons]))\n",
    "    first_layer_output=tf.nn.relu(tf.add(tf.matmul(x,first_weight),first_bias))\n",
    "    #second_layer\n",
    "    second_weight=tf.Variable(tf.random_uniform([first_layer_neurons,second_layer_neurons])\n",
    "    second_bias=tf.Variable(tf.zeros([second_layer_neurons]))\n",
    "    second_layer_output=tf.nn.relu(tf.add(tf.matmul(first_layer_output),second_weight),second_bias)\n",
    "    #output_layer\n",
    "    final_weight=tf.Variable(tf.random_uniform([second_layer_neurons,no_classes]))\n",
    "    final_bias=tf.Variable(tf.zeros([no_classes]))\n",
    "    logits=tf.add(tf.matmul(second_layer_output,final_weight),final_bias)\n",
    "    return logits\n",
    "\n",
    "logits=multiplayer_perceptron(X,no_labels)\n",
    "learning_rate=0.01\n",
    "#we define the loss and optimiser for the network\n",
    "loss_op=tf.reduce_mean(tf.nn.softmax_cross_entropy_with_logits(logits=logits,labels=Y))\n",
    "optimiser=tf.train.AdamOptimizer(learning_rate=learning_rate)\n",
    "train_op=optimiser.minimize(loss_op)\n",
    "#initialize the variables\n",
    "init=tf.global_variables_initializer()\n",
    "epochs=20\n",
    "batch_size=1000\n",
    "iteration=len(x_train)//batch_size\n",
    "                              \n",
    "#train model\n",
    "with tf.Session() as session:\n",
    "    session.run(init)\n",
    "    average_cost=0\n",
    "    start,end=0\n",
    "    batch_size\n",
    "    for i in range(iteration):\n",
    "        batch_x, batch_y = x_train[start:end],y_train[start:end]\n",
    "        _, loss=session.run([train_op,loss_op],feed_dict={X:batch_x,Y:batch_y})\n",
    "        start += batch_size\n",
    "        end += batch_size\n",
    "        #average loss\n",
    "        average_cost += loss/iteration\n",
    "    print(\"Epoch==========={}\".format(epoch))\n",
    "\n",
    "#evaluate model\n",
    "prediction = tf.nn.softmax(logits)\n",
    "ground_truth = tf.equal(tf.argmax(prediction,1),tf.argmax(Y,1))\n",
    "accuracy = tf.reduce_mean(tf.cast(ground_truth,\"float\"))\n",
    "print(\"Accuracy: {}\".format(accuracy.eval({X:test_images,Y:test_labels})))"
   ]
  },
  {
   "cell_type": "markdown",
   "metadata": {},
   "source": [
    "Common regularization for deep learning\n",
    "\n",
    "Regularisation prevents overfitting in models\n",
    "Models are also susceptible to overfitting.\n",
    "Different methods have been developed to prevent overfitting.\n",
    "L1 & L2 regularization, dropout, data augmentation and early stopping and regularization methods.\n",
    "\n",
    "1.Dropout - this is a frequently used technique in DL where units are ignored (dropped out) in a neural network. A % of the neurons in each layer in the network are randomly selected and ignored such that they do not make any contribution in the forward and backward pass. \n",
    "This results in a much smaller network where the neurons left are required to handle the representations that would have been used for predictions by the missing neurons by learning more robust features. This process improves the generalization capabilities of the network and reduces overfitting on the training data. \n",
    "\n",
    "2. Early stopping - when a model is trained for a longer period such that the validation error starts to increase, overfitting is said to occur. In early stopping, while fitting the model on the training data and evaluating on the validation set, when the validation errors stops reducing or gets worse, the training process is terminated before the lowest training error is obtained to prevent overfitting.\n",
    "\n",
    "3. Data Augmentation - training the model on a larger dataset is another way to prevent overfitting. It involves increasing the size of training set by introducing minor changes like rotating, cropping, flipping, translating, blurring to generate synthetic data from the dataset. "
   ]
  },
  {
   "cell_type": "markdown",
   "metadata": {},
   "source": [
    "Optimisation for training deep neural networks\n",
    "\n",
    "When we solve DL problems, a loss function is defined to minimize the loss using an optimisation algorithm like:\n",
    "1. Gradient descent\n",
    "2. Gradient descent with momentum\n",
    "3. Adagrad\n",
    "4. RMSProp\n",
    "5. Adam\n",
    "\n",
    "There are several optimisation algorithms but there are also some challenges such as:\n",
    "1.local minima\n",
    "2. saddle points\n",
    "3. vanishing gradients etc faced in DL optimisation"
   ]
  },
  {
   "cell_type": "code",
   "execution_count": null,
   "metadata": {},
   "outputs": [],
   "source": [
    "Local minima\n",
    "\n",
    "- Neural networks aim to continue updating weights until the global minimum (the lowest point of the entire network) is attained.\n",
    "Local minima refer to the lowest points of localised portions of the graph.\n",
    "The value of a loss function is minimum at a point in the local region. \n",
    "It isi possible for the function to be stuck at a local minimum because it is best point in that locality which makes it difficult to reach the global minimum where the lowest loss can be achieved.\n",
    "\n",
    "Vanishing gradeints\n",
    "- This is a problem that happens when training a network using gradient descent methods\n",
    "it makes it difficult to update the weights in the earlier layers of the network and worsens as the number of layers increases. \n",
    "As we know, with gradient descent, the gradient controls how much learning happens in the network while training.\n",
    "While backpropagating in deep neural networks , the gradoents tend to get smaller and with small gradients, little or no learning is done that is why resutlnig poor performance of models."
   ]
  },
  {
   "cell_type": "code",
   "execution_count": null,
   "metadata": {},
   "outputs": [],
   "source": []
  },
  {
   "cell_type": "code",
   "execution_count": null,
   "metadata": {},
   "outputs": [],
   "source": []
  },
  {
   "cell_type": "code",
   "execution_count": null,
   "metadata": {},
   "outputs": [],
   "source": []
  },
  {
   "cell_type": "code",
   "execution_count": null,
   "metadata": {},
   "outputs": [],
   "source": []
  },
  {
   "cell_type": "code",
   "execution_count": null,
   "metadata": {},
   "outputs": [],
   "source": []
  },
  {
   "cell_type": "code",
   "execution_count": null,
   "metadata": {},
   "outputs": [],
   "source": []
  },
  {
   "cell_type": "code",
   "execution_count": null,
   "metadata": {},
   "outputs": [],
   "source": []
  },
  {
   "cell_type": "code",
   "execution_count": null,
   "metadata": {},
   "outputs": [],
   "source": []
  }
 ],
 "metadata": {
  "kernelspec": {
   "display_name": "Python 3",
   "language": "python",
   "name": "python3"
  },
  "language_info": {
   "codemirror_mode": {
    "name": "ipython",
    "version": 3
   },
   "file_extension": ".py",
   "mimetype": "text/x-python",
   "name": "python",
   "nbconvert_exporter": "python",
   "pygments_lexer": "ipython3",
   "version": "3.8.3"
  }
 },
 "nbformat": 4,
 "nbformat_minor": 4
}
